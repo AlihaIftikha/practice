{
  "nbformat": 4,
  "nbformat_minor": 0,
  "metadata": {
    "colab": {
      "provenance": []
    },
    "kernelspec": {
      "name": "python3",
      "display_name": "Python 3"
    },
    "language_info": {
      "name": "python"
    }
  },
  "cells": [
    {
      "cell_type": "code",
      "execution_count": null,
      "metadata": {
        "id": "AZJAj25k2xA6"
      },
      "outputs": [],
      "source": [
        "#task2\n",
        "import pandas as pd\n",
        "data = pd.read_csv('C:\\\\Users\\\\DELL\\\\Downloads\\\\Lab4\\\\Lab (4)\\\\GHCN_daily_data.csv', header=None, sep=',')\n",
        "\n",
        "\n",
        "data = data[data[6].isnull()]\n",
        "data = data[data[1].str.startswith('US')]\n",
        "data = data[data[3] == 'TMIN']\n",
        "data[8] = data[7] / 10\n",
        "data = data[[1, 2, 8]]\n",
        "data.columns = ['station', 'date', 'tmin']\n",
        "data.to_csv('GHCN_output.csv', index=False)\n"
      ]
    },
    {
      "cell_type": "code",
      "source": [
        "import matplotlib.pyplot as plt\n",
        "plt.xticks(rotation=25)\n",
        "plt.plot(dog_ratings['timestamp'], dog_ratings['rating'], 'b.', alpha=0.5)\n",
        "plt.plot(dog_ratings['timestamp'], dog_ratings['prediction'], 'r-', linewidth=3)\n",
        "plt.show()\n"
      ],
      "metadata": {
        "id": "beFxRfuq-0Xz"
      },
      "execution_count": null,
      "outputs": []
    },
    {
      "cell_type": "code",
      "source": [
        "#task1\n",
        "import numpy as np\n",
        "import matplotlib.pyplot as plt\n",
        "image_data = np.random.rand(700, 1000, 3)\n",
        "fig, ax = plt.subplots()\n",
        "ax.imshow(image_data)\n",
        "ax.axis('off')\n",
        "plt.show()\n"
      ],
      "metadata": {
        "id": "cOVWZKU3GVyx"
      },
      "execution_count": null,
      "outputs": []
    },
    {
      "cell_type": "code",
      "source": [
        "pip install panda\n"
      ],
      "metadata": {
        "id": "PnQWYnel5V1w"
      },
      "execution_count": null,
      "outputs": []
    },
    {
      "cell_type": "code",
      "source": [
        "#task3\n",
        "import pandas as pd\n",
        "import matplotlib.pyplot as plt\n",
        "from scipy import stats\n",
        "import re\n",
        "\n",
        "\n",
        "dog_ratings = pd.read_csv(\"C:\\\\Users\\\\DELL\\\\Downloads\\\\twitter_dog_rates_data.csv\")\n",
        "\n",
        "dog_ratings['rating'] = dog_ratings['text'].str.extract(r'(\\d+(\\.\\d+)?)/10')[0]\n",
        "dog_ratings = dog_ratings.dropna(subset=['rating'])\n",
        "dog_ratings['timestamp'] = pd.to_datetime(dog_ratings['timestamp'])\n",
        "dog_ratings = dog_ratings[dog_ratings['rating'].astype(float) < 25]\n",
        "dog_ratings['timestamp_seconds'] = dog_ratings['timestamp'].astype(int) / 10**9\n",
        "fit = stats.linregress(dog_ratings['timestamp_seconds'], dog_ratings['rating'])\n",
        "dog_ratings['prediction'] = dog_ratings['timestamp_seconds'] * fit.slope + fit.intercept\n",
        "\n",
        "plt.xticks(rotation=25)\n",
        "plt.plot(dog_ratings['timestamp'], dog_ratings['rating'], 'b.', alpha=0.5, label='Actual Ratings')\n",
        "plt.plot(dog_ratings['timestamp'], dog_ratings['prediction'], 'r-', linewidth=3, label='Linear Regression Prediction')\n",
        "plt.xlabel('Date')\n",
        "plt.ylabel('Rating')\n",
        "plt.title('Date vs Rating')\n",
        "plt.legend()\n",
        "plt.show()\n"
      ],
      "metadata": {
        "id": "5r2cbVQ4CHEH"
      },
      "execution_count": null,

      "execution_count": null,
     
    }
  ]
}
